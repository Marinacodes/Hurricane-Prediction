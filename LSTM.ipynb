{
 "cells": [
  {
   "cell_type": "markdown",
   "metadata": {},
   "source": [
    "# KERAS LSTM HURRICANE PREDICTION DATA PREPARATION #\n",
    "\n"
   ]
  },
  {
   "cell_type": "code",
   "execution_count": null,
   "metadata": {},
   "outputs": [],
   "source": [
    "import pandas as pd\n",
    "import numpy as np\n",
    "from pandas import read_csv\n",
    "from datetime import datetime"
   ]
  },
  {
   "cell_type": "markdown",
   "metadata": {},
   "source": [
    "After importing the needed modules, the CSV file can be parsed using pandas. The `date_parser` option is used in order to later ensure that training takes place on consecutive, observations spaced six hours apart."
   ]
  },
  {
   "cell_type": "code",
   "execution_count": null,
   "metadata": {},
   "outputs": [],
   "source": [
    "def parse_date(raw):\n",
    "    return datetime.strptime(raw, \"%Y%m%d%H\")\n",
    "data = read_csv('data/cleaned.csv', parse_dates = ['datetime'], date_parser=parse_date)"
   ]
  },
  {
   "cell_type": "markdown",
   "metadata": {},
   "source": [
    "The following code iterates row by row over the csv file and collects consecutive observations separated by exactly six hours from a particular weather event. This is possible because the csv is sorted in chronological order grouped according to the weather event (*the 'id' field*). It also normalizes the location features to a value 0-1. This has been observed to improve the performance of the network."
   ]
  },
  {
   "cell_type": "code",
   "execution_count": null,
   "metadata": {},
   "outputs": [],
   "source": [
    "gc = 1 #group size counter\n",
    "gs = 5 #group size target\n",
    "nrows = len(data)\n",
    "ri = 1 #row index\n",
    "test_and_train = []\n",
    "\n",
    "\n",
    "prev_row = data.iloc[0]\n",
    "\n",
    "def get_normalized_row(index):\n",
    "    return [(data.iloc[index]['latitude']),(data.iloc[index]['longitude']),(data.iloc[index]['maximumwind'])]\n",
    "\n",
    "cg = [get_normalized_row(ri)] #current group\n",
    "while ri < nrows:\n",
    "    if gc < gs:\n",
    "        if data.iloc[ri]['id'] == prev_row['id'] and (data.iloc[ri]['datetime'] - prev_row['datetime']).seconds == 21600:\n",
    "            cg.append(get_normalized_row(ri))\n",
    "            gc += 1\n",
    "        else:\n",
    "            cg = [get_normalized_row(ri)]\n",
    "            gc = 1\n",
    "        prev_row = data.iloc[ri]\n",
    "        ri += 1\n",
    "    else:\n",
    "        test_and_train.append(cg)\n",
    "        cg = [get_normalized_row(ri)]\n",
    "        gc = 1\n",
    "        prev_row = data.iloc[ri]\n",
    "        ri += 1"
   ]
  },
  {
   "cell_type": "markdown",
   "metadata": {},
   "source": [
    "We can see in the next cell that we successfully created 13673 data groups."
   ]
  },
  {
   "cell_type": "code",
   "execution_count": null,
   "metadata": {},
   "outputs": [],
   "source": [
    "num_groups = len(test_and_train)\n",
    "test_and_train = np.array(test_and_train)\n",
    "num_groups"
   ]
  },
  {
   "cell_type": "code",
   "execution_count": null,
   "metadata": {},
   "outputs": [],
   "source": [
    "train = np.array(test_and_train[:-ttsplit])\n",
    "test = np.array(test_and_train[-ttsplit:])"
   ]
  },
  {
   "cell_type": "code",
   "execution_count": null,
   "metadata": {},
   "outputs": [],
   "source": [
    "from keras.models import Sequential\n",
    "from keras.layers import Dense, Activation, LSTM\n",
    "from keras.optimizers import RMSprop\n",
    "from keras.callbacks import LearningRateScheduler"
   ]
  },
  {
   "cell_type": "code",
   "execution_count": null,
   "metadata": {},
   "outputs": [],
   "source": [
    "def lr_decay(epoch):\n",
    "    if epoch < 3: return 0.1\n",
    "    if epoch < 10: return 0.01\n",
    "    return 0.001"
   ]
  },
  {
   "cell_type": "code",
   "execution_count": null,
   "metadata": {},
   "outputs": [],
   "source": [
    "model = Sequential()\n",
    "model.add(LSTM(48, input_shape=(4,3)))\n",
    "model.add(Dense(32))\n",
    "model.add(Dense(16))\n",
    "model.add(Dense(3))\n",
    "\n",
    "optimizer = RMSprop(lr=0.0001)\n",
    "model.compile(loss=\"mae\", optimizer=optimizer, metrics=['acc'])\n",
    "#model.compile(loss=\"mae\", optimizer='adam', metrics=['acc'])"
   ]
  },
  {
   "cell_type": "code",
   "execution_count": null,
   "metadata": {},
   "outputs": [],
   "source": [
    "X, y = test_and_train[:,:4].reshape(num_groups,4,3), test_and_train[:,-1].reshape(num_groups,3)"
   ]
  },
  {
   "cell_type": "code",
   "execution_count": null,
   "metadata": {},
   "outputs": [],
   "source": [
    "#model.fit(X, y, epochs=75, batch_size=50, validation_split=0.33, verbose=2, callbacks=[LearningRateScheduler(lr_decay)])\n",
    "model.fit(X, y, epochs=50, batch_size=5, validation_split=0.2, verbose=2)"
   ]
  },
  {
   "cell_type": "code",
   "execution_count": 113,
   "metadata": {},
   "outputs": [
    {
     "data": {
      "text/plain": [
       "array([[  12.58266926, -101.92967224,   25.24845314]], dtype=float32)"
      ]
     },
     "execution_count": 113,
     "metadata": {},
     "output_type": "execute_result"
    }
   ],
   "source": [
    "model.predict(X[796].reshape(1,4,3))"
   ]
  },
  {
   "cell_type": "code",
   "execution_count": 112,
   "metadata": {},
   "outputs": [
    {
     "data": {
      "text/plain": [
       "array([[  11.9,  -98.2,   25. ],\n",
       "       [  12. ,  -99.2,   25. ],\n",
       "       [  12.1, -100.1,   25. ],\n",
       "       [  12.3, -101. ,   25. ]])"
      ]
     },
     "execution_count": 112,
     "metadata": {},
     "output_type": "execute_result"
    }
   ],
   "source": [
    "X[796]"
   ]
  },
  {
   "cell_type": "code",
   "execution_count": 111,
   "metadata": {},
   "outputs": [
    {
     "data": {
      "text/plain": [
       "array([  12.5, -101.8,   25. ])"
      ]
     },
     "execution_count": 111,
     "metadata": {},
     "output_type": "execute_result"
    }
   ],
   "source": [
    "y[796]"
   ]
  }
 ],
 "metadata": {
  "kernelspec": {
   "display_name": "Python 3",
   "language": "python",
   "name": "python3"
  },
  "language_info": {
   "codemirror_mode": {
    "name": "ipython",
    "version": 3
   },
   "file_extension": ".py",
   "mimetype": "text/x-python",
   "name": "python",
   "nbconvert_exporter": "python",
   "pygments_lexer": "ipython3",
   "version": "3.6.2"
  }
 },
 "nbformat": 4,
 "nbformat_minor": 2
}
