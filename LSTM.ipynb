{
 "cells": [
  {
   "cell_type": "markdown",
   "metadata": {},
   "source": [
    "# KERAS LSTM HURRICANE PREDICTION DATA PREPARATION #\n",
    "\n"
   ]
  },
  {
   "cell_type": "code",
   "execution_count": 1,
   "metadata": {},
   "outputs": [],
   "source": [
    "import pandas as pd\n",
    "import numpy as np\n",
    "from pandas import read_csv\n",
    "from datetime import datetime"
   ]
  },
  {
   "cell_type": "markdown",
   "metadata": {},
   "source": [
    "After importing the needed modules, the CSV file can be parsed using pandas. The `date_parser` option is used in order to later ensure that training takes place on consecutive, observations spaced six hours apart."
   ]
  },
  {
   "cell_type": "code",
   "execution_count": 2,
   "metadata": {},
   "outputs": [],
   "source": [
    "def parse_date(raw):\n",
    "    return datetime.strptime(raw, \"%Y%m%d%H\")\n",
    "data = read_csv('data/cleaned.csv', parse_dates = ['datetime'], date_parser=parse_date)"
   ]
  },
  {
   "cell_type": "markdown",
   "metadata": {},
   "source": [
    "The following code iterates row by row over the csv file and collects consecutive observations separated by exactly six hours from a particular weather event. This is possible because the csv is sorted in chronological order grouped according to the weather event (*the 'id' field*). It also normalizes the location features to a value 0-1. This has been observed to improve the performance of the network."
   ]
  },
  {
   "cell_type": "code",
   "execution_count": 3,
   "metadata": {},
   "outputs": [],
   "source": [
    "gc = 1 #group size counter\n",
    "gs = 5 #group size target\n",
    "nrows = len(data)\n",
    "ri = 1 #row index\n",
    "test_and_train = []\n",
    "\n",
    "\n",
    "prev_row = data.iloc[0]\n",
    "\n",
    "def get_normalized_row(index):\n",
    "    return [(data.iloc[index]['latitude']),(data.iloc[index]['longitude']),(data.iloc[index]['maximumwind'])]\n",
    "\n",
    "cg = [get_normalized_row(ri)] #current group\n",
    "while ri < nrows:\n",
    "    if gc < gs:\n",
    "        if data.iloc[ri]['id'] == prev_row['id'] and (data.iloc[ri]['datetime'] - prev_row['datetime']).seconds == 21600:\n",
    "            cg.append(get_normalized_row(ri))\n",
    "            gc += 1\n",
    "        else:\n",
    "            cg = [get_normalized_row(ri)]\n",
    "            gc = 1\n",
    "        prev_row = data.iloc[ri]\n",
    "        ri += 1\n",
    "    else:\n",
    "        test_and_train.append(cg)\n",
    "        cg = [get_normalized_row(ri)]\n",
    "        gc = 1\n",
    "        prev_row = data.iloc[ri]\n",
    "        ri += 1"
   ]
  },
  {
   "cell_type": "markdown",
   "metadata": {},
   "source": [
    "We can see in the next cell that we successfully created 13673 data groups."
   ]
  },
  {
   "cell_type": "code",
   "execution_count": 4,
   "metadata": {},
   "outputs": [
    {
     "data": {
      "text/plain": [
       "13673"
      ]
     },
     "execution_count": 4,
     "metadata": {},
     "output_type": "execute_result"
    }
   ],
   "source": [
    "num_groups = len(test_and_train)\n",
    "test_and_train = np.array(test_and_train)\n",
    "num_groups"
   ]
  },
  {
   "cell_type": "code",
   "execution_count": 5,
   "metadata": {
    "collapsed": true
   },
   "outputs": [],
   "source": [
    "#Use validation_split in keras fit function for automatic splitting\n",
    "#train = np.array(test_and_train[:-ttsplit])\n",
    "#test = np.array(test_and_train[-ttsplit:])"
   ]
  },
  {
   "cell_type": "markdown",
   "metadata": {},
   "source": [
    "Now that we have our data set (contained in the test_and_train variable), we can import the keras modules to build the network."
   ]
  },
  {
   "cell_type": "code",
   "execution_count": 7,
   "metadata": {},
   "outputs": [
    {
     "name": "stderr",
     "output_type": "stream",
     "text": [
      "Using TensorFlow backend.\n"
     ]
    }
   ],
   "source": [
    "from keras.models import Sequential\n",
    "from keras.layers import Dense, Activation, LSTM\n",
    "from keras.optimizers import RMSprop\n",
    "from keras.callbacks import LearningRateScheduler"
   ]
  },
  {
   "cell_type": "markdown",
   "metadata": {},
   "source": [
    "The following function is a callback called each epoch of the fit function. This allows us to start with a higher learning rate that gets decays over time to ruduce overall training time without sacrificing accuracy."
   ]
  },
  {
   "cell_type": "code",
   "execution_count": 66,
   "metadata": {},
   "outputs": [],
   "source": [
    "def lr_decay(epoch):\n",
    "    if epoch < 2: return 0.01\n",
    "    if epoch < 6: return 0.001\n",
    "    return 0.0001"
   ]
  },
  {
   "cell_type": "code",
   "execution_count": 116,
   "metadata": {},
   "outputs": [],
   "source": [
    "def lr_min(epoch):\n",
    "    return 0.0001"
   ]
  },
  {
   "cell_type": "markdown",
   "metadata": {},
   "source": [
    "Originally attempted to use adam optimizer and tried a variety of different configurations of network. "
   ]
  },
  {
   "cell_type": "code",
   "execution_count": 105,
   "metadata": {},
   "outputs": [],
   "source": [
    "model = Sequential()\n",
    "model.add(LSTM(100, input_shape=(4,3), return_sequences=False)) #Input layer, LSTM with 48 neurons\n",
    "model.add(Dense(16))\n",
    "model.add(Dense(3))\n",
    "\n",
    "#optimizer = RMSprop(0.0001)\n",
    "model.compile(loss=\"mae\", optimizer='rmsprop', metrics=['acc'])\n",
    "#model.compile(loss=\"mse\", optimizer='adam', metrics=['acc']) #adam optimizer performed worse than RMSprop"
   ]
  },
  {
   "cell_type": "markdown",
   "metadata": {},
   "source": [
    "Need to reshape the dataset before fitting."
   ]
  },
  {
   "cell_type": "code",
   "execution_count": 10,
   "metadata": {},
   "outputs": [],
   "source": [
    "X, y = test_and_train[:,:4].reshape(num_groups,4,3), test_and_train[:,-1].reshape(num_groups,3)"
   ]
  },
  {
   "cell_type": "code",
   "execution_count": 117,
   "metadata": {},
   "outputs": [
    {
     "name": "stdout",
     "output_type": "stream",
     "text": [
      "Train on 13536 samples, validate on 137 samples\n",
      "Epoch 1/10\n",
      " - 17s - loss: 1.4773 - acc: 0.9787 - val_loss: 1.2974 - val_acc: 0.9781\n",
      "Epoch 2/10\n",
      " - 16s - loss: 1.4508 - acc: 0.9787 - val_loss: 1.2703 - val_acc: 0.9781\n",
      "Epoch 3/10\n",
      " - 16s - loss: 1.4428 - acc: 0.9789 - val_loss: 1.2915 - val_acc: 0.9781\n",
      "Epoch 4/10\n",
      " - 17s - loss: 1.4408 - acc: 0.9792 - val_loss: 1.2688 - val_acc: 0.9781\n",
      "Epoch 5/10\n",
      " - 17s - loss: 1.4382 - acc: 0.9792 - val_loss: 1.2492 - val_acc: 0.9781\n",
      "Epoch 6/10\n",
      " - 17s - loss: 1.4342 - acc: 0.9793 - val_loss: 1.2590 - val_acc: 0.9854\n",
      "Epoch 7/10\n",
      " - 17s - loss: 1.4321 - acc: 0.9795 - val_loss: 1.2553 - val_acc: 0.9781\n",
      "Epoch 8/10\n",
      " - 17s - loss: 1.4320 - acc: 0.9789 - val_loss: 1.2317 - val_acc: 0.9781\n",
      "Epoch 9/10\n",
      " - 19s - loss: 1.4287 - acc: 0.9791 - val_loss: 1.2380 - val_acc: 0.9781\n",
      "Epoch 10/10\n",
      " - 19s - loss: 1.4256 - acc: 0.9788 - val_loss: 1.2427 - val_acc: 0.9854\n"
     ]
    },
    {
     "data": {
      "text/plain": [
       "<keras.callbacks.History at 0x2238cb96470>"
      ]
     },
     "execution_count": 117,
     "metadata": {},
     "output_type": "execute_result"
    }
   ],
   "source": [
    "#model.fit(X, y, epochs=20, batch_size=50, validation_split=0.01, verbose=2, callbacks=[LearningRateScheduler(lr_decay)])\n",
    "model.fit(X, y, epochs=10, batch_size=10, validation_split=0.01, verbose=2, callbacks=[LearningRateScheduler(lr_min)])"
   ]
  },
  {
   "cell_type": "code",
   "execution_count": 118,
   "metadata": {},
   "outputs": [],
   "source": [
    "lat_s = 0\n",
    "lon_s = 0\n",
    "ws_s = 0\n",
    "lat_f = 0\n",
    "lon_f = 0\n",
    "ws_f = 0\n",
    "lat_err = 0\n",
    "lon_err = 0\n",
    "ws_err = 0\n",
    "\n",
    "for iter in range(num_groups):\n",
    "    gt = model.predict(X[iter].reshape(1,4,3))\n",
    "    pred = y[iter]\n",
    "    if abs(gt[0][0] - pred[0]) <= 0.1:\n",
    "        lat_s += 1\n",
    "    else:\n",
    "        lat_f += 1\n",
    "    if abs(gt[0][1] - pred[1]) <= 0.2:\n",
    "        lon_s += 1\n",
    "    else:\n",
    "        lon_f += 1\n",
    "    if abs(gt[0][2] - pred[2]) <= 1:\n",
    "        ws_s += 1\n",
    "    else:\n",
    "        ws_f += 1\n",
    "    lat_err += abs(gt[0][0] - pred[0])\n",
    "    lon_err += abs(gt[0][1] - pred[1])\n",
    "    ws_err += abs(gt[0][2] - pred[2])"
   ]
  },
  {
   "cell_type": "code",
   "execution_count": 119,
   "metadata": {},
   "outputs": [
    {
     "name": "stdout",
     "output_type": "stream",
     "text": [
      "Lattitude prediction threshold success rate =  22.7382432531266\n",
      "Lattitude average error =  0.355981987295\n",
      "Longitude prediction threshold success rate =  28.296643019088712\n",
      "Longitude average error =  0.84332578814\n",
      "Wind Speed prediction threshold success rate =  38.78446573539092\n",
      "Wind Speed average error =  3.05020879996\n"
     ]
    }
   ],
   "source": [
    "lat_acc = (lat_s/(num_groups))*100\n",
    "lat_err /= num_groups\n",
    "lon_acc = (lon_s/(num_groups))*100\n",
    "lon_err /= num_groups\n",
    "ws_acc = (ws_s/(num_groups))*100\n",
    "ws_err /= num_groups\n",
    "\n",
    "print(\"Lattitude prediction threshold success rate = \", lat_acc)\n",
    "print(\"Lattitude average error = \", lat_err)\n",
    "print(\"Longitude prediction threshold success rate = \", lon_acc)\n",
    "print(\"Longitude average error = \", lon_err)\n",
    "print(\"Wind Speed prediction threshold success rate = \", ws_acc)\n",
    "print(\"Wind Speed average error = \", ws_err)"
   ]
  }
 ],
 "metadata": {
  "kernelspec": {
   "display_name": "Python 3",
   "language": "python",
   "name": "python3"
  },
  "language_info": {
   "codemirror_mode": {
    "name": "ipython",
    "version": 3
   },
   "file_extension": ".py",
   "mimetype": "text/x-python",
   "name": "python",
   "nbconvert_exporter": "python",
   "pygments_lexer": "ipython3",
   "version": "3.6.2"
  }
 },
 "nbformat": 4,
 "nbformat_minor": 2
}
