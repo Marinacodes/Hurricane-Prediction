{
 "cells": [
  {
   "cell_type": "markdown",
   "metadata": {},
   "source": [
    "# KERAS LSTM HURRICANE PREDICTION DATA PREPARATION #\n",
    "\n"
   ]
  },
  {
   "cell_type": "code",
   "execution_count": 94,
   "metadata": {},
   "outputs": [],
   "source": [
    "import pandas as pd\n",
    "import numpy as np\n",
    "from pandas import read_csv\n",
    "from datetime import datetime"
   ]
  },
  {
   "cell_type": "markdown",
   "metadata": {},
   "source": [
    "After importing the needed modules, the CSV file can be parsed using pandas. The `date_parser` option is used in order to later ensure that training takes place on consecutive, observations spaced six hours apart."
   ]
  },
  {
   "cell_type": "code",
   "execution_count": 11,
   "metadata": {},
   "outputs": [],
   "source": [
    "def parse_date(raw):\n",
    "    return datetime.strptime(raw, \"%Y%m%d%H\")\n",
    "data = read_csv('cleaned.csv', parse_dates = ['datetime'], date_parser=parse_date)"
   ]
  },
  {
   "cell_type": "markdown",
   "metadata": {},
   "source": [
    "The following code iterates row by row over the csv file and collects consecutive observations separated by exactly six hours from a particular weather event. This is possible because the csv is sorted in chronological order grouped according to the weather event (*the 'id' field*). It also normalizes the location features to a value 0-1. This has been observed to improve the performance of the network."
   ]
  },
  {
   "cell_type": "code",
   "execution_count": 53,
   "metadata": {},
   "outputs": [],
   "source": [
    "gc = 1 #group size counter\n",
    "gs = 5 #group size target\n",
    "nrows = len(data)\n",
    "ri = 1 #row index\n",
    "test_and_train = []\n",
    "\n",
    "\n",
    "prev_row = data.iloc[0]\n",
    "\n",
    "def get_normalized_row(index):\n",
    "    return [(data.iloc[index]['latitude']/90),(data.iloc[index]['longitude']/180),(data.iloc[index]['maximumwind'])]\n",
    "\n",
    "cg = [get_normalized_row(ri)] #current group\n",
    "while ri < nrows:\n",
    "    if gc < gs:\n",
    "        if data.iloc[ri]['id'] == prev_row['id'] and (data.iloc[ri]['datetime'] - prev_row['datetime']).seconds == 21600:\n",
    "            cg.append(get_normalized_row(ri))\n",
    "            gc += 1\n",
    "        else:\n",
    "            cg = [get_normalized_row(ri)]\n",
    "            gc = 1\n",
    "        prev_row = data.iloc[ri]\n",
    "        ri += 1\n",
    "    else:\n",
    "        test_and_train.append(cg)\n",
    "        cg = [get_normalized_row(ri)]\n",
    "        gc = 1\n",
    "        prev_row = data.iloc[ri]\n",
    "        ri += 1"
   ]
  },
  {
   "cell_type": "markdown",
   "metadata": {},
   "source": [
    "We can see in the next cell that we successfully created 13673 data groups."
   ]
  },
  {
   "cell_type": "code",
   "execution_count": 129,
   "metadata": {},
   "outputs": [
    {
     "data": {
      "text/plain": [
       "13673"
      ]
     },
     "execution_count": 129,
     "metadata": {},
     "output_type": "execute_result"
    }
   ],
   "source": [
    "num_groups = len(test_and_train)\n",
    "ttsplit = int(num_groups/5)\n",
    "train_dim = num_groups - ttsplit\n",
    "num_groups"
   ]
  },
  {
   "cell_type": "code",
   "execution_count": 125,
   "metadata": {},
   "outputs": [],
   "source": [
    "train = np.array(test_and_train[:-ttsplit])\n",
    "test = np.array(test_and_train[-ttsplit:])"
   ]
  },
  {
   "cell_type": "code",
   "execution_count": 78,
   "metadata": {},
   "outputs": [],
   "source": [
    "from keras.models import Sequential\n",
    "from keras.layers import Dense, Activation, LSTM\n",
    "from keras.optimizers import RMSprop"
   ]
  },
  {
   "cell_type": "code",
   "execution_count": 143,
   "metadata": {},
   "outputs": [],
   "source": [
    "model = Sequential()\n",
    "model.add(LSTM(32, input_shape=(4,3)))\n",
    "model.add(Dense(32))\n",
    "model.add(Dense(32))\n",
    "model.add(Dense(12))\n",
    "model.add(Dense(3))\n",
    "model.add(Activation('sigmoid'))\n",
    "\n",
    "optimizer = RMSprop(lr=0.1)\n",
    "model.compile(loss='categorical_crossentropy', optimizer=optimizer)"
   ]
  },
  {
   "cell_type": "code",
   "execution_count": 144,
   "metadata": {},
   "outputs": [],
   "source": [
    "X, y = train[:,:4].reshape(train_dim,4,3), train[:,-1].reshape(train_dim,3)\n",
    "X_test, y_test = test[:,:4].reshape(ttsplit,4,3), test[:,-1].reshape(ttsplit,3)"
   ]
  },
  {
   "cell_type": "code",
   "execution_count": 145,
   "metadata": {},
   "outputs": [
    {
     "name": "stdout",
     "output_type": "stream",
     "text": [
      "Train on 10939 samples, validate on 2734 samples\n",
      "Epoch 1/4\n",
      " - 6s - loss: 41.0938 - val_loss: 38.9764\n",
      "Epoch 2/4\n",
      " - 5s - loss: 40.6925 - val_loss: 38.9764\n",
      "Epoch 3/4\n",
      " - 5s - loss: 40.6925 - val_loss: 38.9764\n",
      "Epoch 4/4\n",
      " - 5s - loss: 40.6925 - val_loss: 38.9764\n"
     ]
    },
    {
     "data": {
      "text/plain": [
       "<keras.callbacks.History at 0x25839ec0be0>"
      ]
     },
     "execution_count": 145,
     "metadata": {},
     "output_type": "execute_result"
    }
   ],
   "source": [
    "model.fit(X, y, epochs=4, validation_data=(X_test, y_test), verbose=2)"
   ]
  },
  {
   "cell_type": "code",
   "execution_count": null,
   "metadata": {},
   "outputs": [],
   "source": []
  }
 ],
 "metadata": {
  "kernelspec": {
   "display_name": "Python 3",
   "language": "python",
   "name": "python3"
  },
  "language_info": {
   "codemirror_mode": {
    "name": "ipython",
    "version": 3
   },
   "file_extension": ".py",
   "mimetype": "text/x-python",
   "name": "python",
   "nbconvert_exporter": "python",
   "pygments_lexer": "ipython3",
   "version": "3.6.2"
  }
 },
 "nbformat": 4,
 "nbformat_minor": 2
}
